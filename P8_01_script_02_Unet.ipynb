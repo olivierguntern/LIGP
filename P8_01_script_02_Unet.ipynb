{
  "cells": [
    {
      "cell_type": "markdown",
      "metadata": {
        "id": "view-in-github",
        "colab_type": "text"
      },
      "source": [
        "<a href=\"https://colab.research.google.com/github/olivierguntern/LIGP/blob/main/P8_01_script_02_Unet.ipynb\" target=\"_parent\"><img src=\"https://colab.research.google.com/assets/colab-badge.svg\" alt=\"Open In Colab\"/></a>"
      ]
    },
    {
      "cell_type": "code",
      "source": [
        "from google.colab import drive\n",
        "drive.mount('/content/drive/')"
      ],
      "metadata": {
        "colab": {
          "base_uri": "https://localhost:8080/"
        },
        "id": "8nJOcvNsD59Q",
        "outputId": "b50611b9-f473-41fb-ebe2-50304a40275c"
      },
      "id": "8nJOcvNsD59Q",
      "execution_count": 1,
      "outputs": [
        {
          "output_type": "stream",
          "name": "stdout",
          "text": [
            "Mounted at /content/drive/\n"
          ]
        }
      ]
    },
    {
      "cell_type": "markdown",
      "id": "9254db8a",
      "metadata": {
        "id": "9254db8a"
      },
      "source": [
        "## Segmentation des images unet"
      ]
    },
    {
      "cell_type": "markdown",
      "id": "539b7650",
      "metadata": {
        "id": "539b7650"
      },
      "source": [
        "### Importer les librairies necessaires"
      ]
    },
    {
      "cell_type": "code",
      "execution_count": 2,
      "id": "4a9f725c-7a6d-49a7-b5f5-38df61b01d3a",
      "metadata": {
        "gather": {
          "logged": 1646094892466
        },
        "jupyter": {
          "outputs_hidden": false,
          "source_hidden": false
        },
        "nteract": {
          "transient": {
            "deleting": false
          }
        },
        "colab": {
          "base_uri": "https://localhost:8080/"
        },
        "id": "4a9f725c-7a6d-49a7-b5f5-38df61b01d3a",
        "outputId": "94f050c3-281f-48e2-f3c3-85c2964c2ea5"
      },
      "outputs": [
        {
          "output_type": "stream",
          "name": "stdout",
          "text": [
            "Looking in indexes: https://pypi.org/simple, https://us-python.pkg.dev/colab-wheels/public/simple/\n",
            "Requirement already satisfied: imgaug in /usr/local/lib/python3.8/dist-packages (0.4.0)\n",
            "Requirement already satisfied: opencv-python in /usr/local/lib/python3.8/dist-packages (from imgaug) (4.6.0.66)\n",
            "Requirement already satisfied: matplotlib in /usr/local/lib/python3.8/dist-packages (from imgaug) (3.5.3)\n",
            "Requirement already satisfied: scipy in /usr/local/lib/python3.8/dist-packages (from imgaug) (1.7.3)\n",
            "Requirement already satisfied: six in /usr/local/lib/python3.8/dist-packages (from imgaug) (1.15.0)\n",
            "Requirement already satisfied: Shapely in /usr/local/lib/python3.8/dist-packages (from imgaug) (2.0.1)\n",
            "Requirement already satisfied: Pillow in /usr/local/lib/python3.8/dist-packages (from imgaug) (8.4.0)\n",
            "Requirement already satisfied: imageio in /usr/local/lib/python3.8/dist-packages (from imgaug) (2.9.0)\n",
            "Requirement already satisfied: scikit-image>=0.14.2 in /usr/local/lib/python3.8/dist-packages (from imgaug) (0.18.3)\n",
            "Requirement already satisfied: numpy>=1.15 in /usr/local/lib/python3.8/dist-packages (from imgaug) (1.22.4)\n",
            "Requirement already satisfied: tifffile>=2019.7.26 in /usr/local/lib/python3.8/dist-packages (from scikit-image>=0.14.2->imgaug) (2023.2.3)\n",
            "Requirement already satisfied: PyWavelets>=1.1.1 in /usr/local/lib/python3.8/dist-packages (from scikit-image>=0.14.2->imgaug) (1.4.1)\n",
            "Requirement already satisfied: networkx>=2.0 in /usr/local/lib/python3.8/dist-packages (from scikit-image>=0.14.2->imgaug) (3.0)\n",
            "Requirement already satisfied: packaging>=20.0 in /usr/local/lib/python3.8/dist-packages (from matplotlib->imgaug) (23.0)\n",
            "Requirement already satisfied: pyparsing>=2.2.1 in /usr/local/lib/python3.8/dist-packages (from matplotlib->imgaug) (3.0.9)\n",
            "Requirement already satisfied: fonttools>=4.22.0 in /usr/local/lib/python3.8/dist-packages (from matplotlib->imgaug) (4.38.0)\n",
            "Requirement already satisfied: kiwisolver>=1.0.1 in /usr/local/lib/python3.8/dist-packages (from matplotlib->imgaug) (1.4.4)\n",
            "Requirement already satisfied: python-dateutil>=2.7 in /usr/local/lib/python3.8/dist-packages (from matplotlib->imgaug) (2.8.2)\n",
            "Requirement already satisfied: cycler>=0.10 in /usr/local/lib/python3.8/dist-packages (from matplotlib->imgaug) (0.11.0)\n"
          ]
        }
      ],
      "source": [
        "pip install imgaug"
      ]
    },
    {
      "cell_type": "code",
      "execution_count": 3,
      "id": "0bf250b2",
      "metadata": {
        "gather": {
          "logged": 1646094931138
        },
        "id": "0bf250b2"
      },
      "outputs": [],
      "source": [
        "import os\n",
        "import numpy as np\n",
        "import pandas as pd\n",
        "import matplotlib.pyplot as plt\n",
        "\n",
        "from IPython.display import Image, display\n",
        "import tensorflow as tf\n",
        "from tensorflow import keras\n",
        "from tensorflow.keras import layers\n",
        "from tensorflow.keras.preprocessing import image\n",
        "from tensorflow.keras import backend as K\n",
        "from tensorflow.keras.utils import Sequence\n",
        "from tensorflow.keras.models import Model, load_model\n",
        "from tensorflow.keras.layers import Input, Conv2D, MaxPooling2D, UpSampling2D, concatenate, Conv2DTranspose, BatchNormalization, Dropout, Lambda\n",
        "from tensorflow.keras.optimizers import Adam\n",
        "from tensorflow.keras.layers import Activation, MaxPool2D, Concatenate\n",
        "from tensorflow.keras.utils import to_categorical\n",
        "from tensorflow.keras.preprocessing.image import load_img\n",
        "from tensorflow.keras.applications.resnet50 import preprocess_input\n",
        "from tensorflow.keras.metrics import MeanIoU\n",
        "\n",
        "import random\n",
        "\n",
        "import imgaug as ia\n",
        "from imgaug import augmenters as iaa\n",
        "\n",
        "from sklearn.model_selection import train_test_split\n",
        "\n",
        "import warnings"
      ]
    },
    {
      "cell_type": "markdown",
      "id": "f2cf921b",
      "metadata": {
        "id": "f2cf921b"
      },
      "source": [
        "### Identification des différents dossiers d'images"
      ]
    },
    {
      "cell_type": "code",
      "source": [
        "leftImg8bit_path = '/content/drive/MyDrive/data/leftImg8bit'\n",
        "gtFine_path = '/content/drive/MyDrive/data/gtFine'"
      ],
      "metadata": {
        "id": "-_3Ys-1OENmS"
      },
      "id": "-_3Ys-1OENmS",
      "execution_count": 4,
      "outputs": []
    },
    {
      "cell_type": "code",
      "source": [
        "# Affiche la structure et le nombre de fichiers du dossier\n",
        "def printStructure(dir_path):\n",
        "    list_dir = (os.listdir(dir_path)) # trier les noms de dossiers dans l'ordre alphabétique\n",
        "    list_dir_country = {}\n",
        "    subdir_list = [] # initialiser une liste vide pour chaque répertoire\n",
        "\n",
        "    nbr_data = {}\n",
        "    nbr_dir = len(list_dir) # obtenir le nombre de répertoires dans le dossier\n",
        "\n",
        "    for dir in list_dir:\n",
        "        list_dir_country[dir] = sorted(os.listdir(os.path.join(dir_path, dir)))\n",
        "        \n",
        "    print(dir_path)\n",
        "    for i in list_dir:\n",
        "        print(f\"    {i}/\")\n",
        "        nbr_data[i] = 0\n",
        "        nbr_subdir = len(list_dir_country[i]) # obtenir le nombre de sous-répertoires dans chaque répertoire\n",
        "        for j in list_dir_country[i]:\n",
        "            nbr_data_country = len(os.listdir(os.path.join(dir_path, i, j)))\n",
        "            nbr_data[i] += nbr_data_country\n",
        "            print (f\"       {j}/ {nbr_data_country}\")\n",
        "            subdir_list.append(j) # ajouter le nom de chaque sous-répertoire à la liste correspondante\n",
        "    print(f\"\\nTotal : {nbr_dir} répertoires\")\n",
        "    print(f\"\\nTotal : {nbr_subdir} sous répertoires\")\n",
        "    for i in list_dir:\n",
        "        print(f\"    {i}: {nbr_data[i]}\")\n",
        "    return subdir_list"
      ],
      "metadata": {
        "id": "K9mLUvL8Eg0Y"
      },
      "id": "K9mLUvL8Eg0Y",
      "execution_count": 5,
      "outputs": []
    },
    {
      "cell_type": "code",
      "source": [
        "train_villes=printStructure(leftImg8bit_path)"
      ],
      "metadata": {
        "colab": {
          "base_uri": "https://localhost:8080/"
        },
        "id": "N4xlDk_yEkxA",
        "outputId": "f6e7cc81-6a62-4bfa-b102-1441fc164afe"
      },
      "id": "N4xlDk_yEkxA",
      "execution_count": 6,
      "outputs": [
        {
          "output_type": "stream",
          "name": "stdout",
          "text": [
            "/content/drive/MyDrive/data/leftImg8bit\n",
            "    train/\n",
            "       aachen/ 174\n",
            "       bochum/ 96\n",
            "       bremen/ 316\n",
            "       cologne/ 158\n",
            "       darmstadt/ 85\n",
            "       dusseldorf/ 221\n",
            "       erfurt/ 109\n",
            "       hamburg/ 248\n",
            "       hanover/ 196\n",
            "       jena/ 119\n",
            "       krefeld/ 99\n",
            "       monchengladbach/ 94\n",
            "       strasbourg/ 365\n",
            "       stuttgart/ 196\n",
            "       tubingen/ 144\n",
            "       ulm/ 95\n",
            "       weimar/ 142\n",
            "       zurich/ 122\n",
            "\n",
            "Total : 1 répertoires\n",
            "\n",
            "Total : 18 sous répertoires\n",
            "    train: 2979\n"
          ]
        }
      ]
    },
    {
      "cell_type": "code",
      "source": [
        "train_villes"
      ],
      "metadata": {
        "colab": {
          "base_uri": "https://localhost:8080/"
        },
        "id": "t5HPbJbSIfvc",
        "outputId": "431b0991-cec4-48fe-8c06-d281fa6551ca"
      },
      "id": "t5HPbJbSIfvc",
      "execution_count": 7,
      "outputs": [
        {
          "output_type": "execute_result",
          "data": {
            "text/plain": [
              "['aachen',\n",
              " 'bochum',\n",
              " 'bremen',\n",
              " 'cologne',\n",
              " 'darmstadt',\n",
              " 'dusseldorf',\n",
              " 'erfurt',\n",
              " 'hamburg',\n",
              " 'hanover',\n",
              " 'jena',\n",
              " 'krefeld',\n",
              " 'monchengladbach',\n",
              " 'strasbourg',\n",
              " 'stuttgart',\n",
              " 'tubingen',\n",
              " 'ulm',\n",
              " 'weimar',\n",
              " 'zurich']"
            ]
          },
          "metadata": {},
          "execution_count": 7
        }
      ]
    },
    {
      "cell_type": "code",
      "source": [
        "mask_villes=printStructure(gtFine_path)"
      ],
      "metadata": {
        "colab": {
          "base_uri": "https://localhost:8080/"
        },
        "id": "XXVqo721Eq_r",
        "outputId": "73f2d07a-2940-4506-cb8c-400ce4b23d42"
      },
      "id": "XXVqo721Eq_r",
      "execution_count": 8,
      "outputs": [
        {
          "output_type": "stream",
          "name": "stdout",
          "text": [
            "/content/drive/MyDrive/data/gtFine\n",
            "    train/\n",
            "       aachen/ 696\n",
            "       bochum/ 384\n",
            "       bremen/ 1264\n",
            "       cologne/ 616\n",
            "       darmstadt/ 340\n",
            "       dusseldorf/ 884\n",
            "       erfurt/ 436\n",
            "       hamburg/ 992\n",
            "       hanover/ 784\n",
            "       jena/ 476\n",
            "       krefeld/ 396\n",
            "       monchengladbach/ 376\n",
            "       strasbourg/ 1460\n",
            "       stuttgart/ 784\n",
            "       tubingen/ 576\n",
            "       ulm/ 380\n",
            "       weimar/ 568\n",
            "       zurich/ 488\n",
            "\n",
            "Total : 1 répertoires\n",
            "\n",
            "Total : 18 sous répertoires\n",
            "    train: 11900\n"
          ]
        }
      ]
    },
    {
      "cell_type": "code",
      "execution_count": 9,
      "id": "db6a5b8f",
      "metadata": {
        "gather": {
          "logged": 1646094933749
        },
        "id": "db6a5b8f"
      },
      "outputs": [],
      "source": [
        "train_image_paths = []\n",
        "train_mask_paths = []\n",
        "\n",
        "for villes in train_villes:\n",
        "\n",
        "\n",
        "   train_image_paths.append(f\"{leftImg8bit_path}/train/{villes}/\")\n",
        "   train_image_paths.append(f\"{gtFine_path}/train/{villes}/\")\n",
        "\n",
        "# Créer des dictionnaires vides pour les listes de chemins de chaque ville et type d'image\n",
        "leftImg8bit_paths = {}\n",
        "gtFine_paths = {}\n",
        "\n",
        "# Parcourir les listes de chemins pour chaque image\n",
        "for img_path in train_image_paths:\n",
        "    # Extraire le nom de la ville à partir du chemin\n",
        "    ville = img_path.split('/')[-2]\n",
        "    \n",
        "    # Vérifier si la ville est déjà présente dans les dictionnaires\n",
        "    if ville not in leftImg8bit_paths:\n",
        "        leftImg8bit_paths[ville] = []\n",
        "        gtFine_paths[ville] = []\n",
        "    \n",
        "    # Ajouter le chemin à la liste correspondante en fonction du type d'image\n",
        "    if 'leftImg8bit' in img_path:\n",
        "        leftImg8bit_paths[ville].append(img_path)\n",
        "    elif 'gtFine' in img_path:\n",
        "        gtFine_paths[ville].append(img_path)\n",
        "\n",
        "    \n"
      ]
    },
    {
      "cell_type": "code",
      "source": [
        "train_image_paths"
      ],
      "metadata": {
        "colab": {
          "base_uri": "https://localhost:8080/"
        },
        "id": "W2LMkXfJKD46",
        "outputId": "b136a8bd-a873-4ade-95b9-ec0509470e9d"
      },
      "id": "W2LMkXfJKD46",
      "execution_count": 10,
      "outputs": [
        {
          "output_type": "execute_result",
          "data": {
            "text/plain": [
              "['/content/drive/MyDrive/data/leftImg8bit/train/aachen/',\n",
              " '/content/drive/MyDrive/data/gtFine/train/aachen/',\n",
              " '/content/drive/MyDrive/data/leftImg8bit/train/bochum/',\n",
              " '/content/drive/MyDrive/data/gtFine/train/bochum/',\n",
              " '/content/drive/MyDrive/data/leftImg8bit/train/bremen/',\n",
              " '/content/drive/MyDrive/data/gtFine/train/bremen/',\n",
              " '/content/drive/MyDrive/data/leftImg8bit/train/cologne/',\n",
              " '/content/drive/MyDrive/data/gtFine/train/cologne/',\n",
              " '/content/drive/MyDrive/data/leftImg8bit/train/darmstadt/',\n",
              " '/content/drive/MyDrive/data/gtFine/train/darmstadt/',\n",
              " '/content/drive/MyDrive/data/leftImg8bit/train/dusseldorf/',\n",
              " '/content/drive/MyDrive/data/gtFine/train/dusseldorf/',\n",
              " '/content/drive/MyDrive/data/leftImg8bit/train/erfurt/',\n",
              " '/content/drive/MyDrive/data/gtFine/train/erfurt/',\n",
              " '/content/drive/MyDrive/data/leftImg8bit/train/hamburg/',\n",
              " '/content/drive/MyDrive/data/gtFine/train/hamburg/',\n",
              " '/content/drive/MyDrive/data/leftImg8bit/train/hanover/',\n",
              " '/content/drive/MyDrive/data/gtFine/train/hanover/',\n",
              " '/content/drive/MyDrive/data/leftImg8bit/train/jena/',\n",
              " '/content/drive/MyDrive/data/gtFine/train/jena/',\n",
              " '/content/drive/MyDrive/data/leftImg8bit/train/krefeld/',\n",
              " '/content/drive/MyDrive/data/gtFine/train/krefeld/',\n",
              " '/content/drive/MyDrive/data/leftImg8bit/train/monchengladbach/',\n",
              " '/content/drive/MyDrive/data/gtFine/train/monchengladbach/',\n",
              " '/content/drive/MyDrive/data/leftImg8bit/train/strasbourg/',\n",
              " '/content/drive/MyDrive/data/gtFine/train/strasbourg/',\n",
              " '/content/drive/MyDrive/data/leftImg8bit/train/stuttgart/',\n",
              " '/content/drive/MyDrive/data/gtFine/train/stuttgart/',\n",
              " '/content/drive/MyDrive/data/leftImg8bit/train/tubingen/',\n",
              " '/content/drive/MyDrive/data/gtFine/train/tubingen/',\n",
              " '/content/drive/MyDrive/data/leftImg8bit/train/ulm/',\n",
              " '/content/drive/MyDrive/data/gtFine/train/ulm/',\n",
              " '/content/drive/MyDrive/data/leftImg8bit/train/weimar/',\n",
              " '/content/drive/MyDrive/data/gtFine/train/weimar/',\n",
              " '/content/drive/MyDrive/data/leftImg8bit/train/zurich/',\n",
              " '/content/drive/MyDrive/data/gtFine/train/zurich/']"
            ]
          },
          "metadata": {},
          "execution_count": 10
        }
      ]
    },
    {
      "cell_type": "code",
      "source": [
        "import os\n",
        "\n",
        "# Dictionnaire pour stocker les chemins complets des images, avec les villes comme clé\n",
        "all_image_paths = {}\n",
        "\n",
        "for path in train_image_paths:\n",
        "    ville = path.split(\"train/\")[1].split(\"/\")[0]\n",
        "    for root, dirs, files in os.walk(path):\n",
        "        for file in files:\n",
        "            if file.endswith(\".png\"):\n",
        "                all_image_paths.setdefault(ville, []).append(os.path.join(root, file))\n",
        "\n"
      ],
      "metadata": {
        "id": "M5Bx2o14OyKT"
      },
      "id": "M5Bx2o14OyKT",
      "execution_count": 11,
      "outputs": []
    },
    {
      "cell_type": "code",
      "source": [
        "import os\n",
        "\n",
        "# Chemin des images\n",
        "image_path = '/content/drive/MyDrive/data/leftImg8bit/train/'\n",
        "\n",
        "# Clé\n",
        "key = 'zurich'\n",
        "\n",
        "# Récupération des chemins complets des images pour la clé donnée\n",
        "image_paths = [os.path.join(root, file) for root, _, files in os.walk(image_path + key) for file in files if file.endswith('.png')]\n",
        "\n",
        "# Affichage des 5 premières images\n",
        "for i in range(5):\n",
        "    print(image_paths[i])\n"
      ],
      "metadata": {
        "colab": {
          "base_uri": "https://localhost:8080/"
        },
        "id": "yCoEJcH9lBtX",
        "outputId": "365a856c-748e-4d0d-b60d-20af6946d549"
      },
      "id": "yCoEJcH9lBtX",
      "execution_count": 12,
      "outputs": [
        {
          "output_type": "stream",
          "name": "stdout",
          "text": [
            "/content/drive/MyDrive/data/leftImg8bit/train/zurich/zurich_000074_000019_leftImg8bit.png\n",
            "/content/drive/MyDrive/data/leftImg8bit/train/zurich/zurich_000103_000019_leftImg8bit.png\n",
            "/content/drive/MyDrive/data/leftImg8bit/train/zurich/zurich_000040_000019_leftImg8bit.png\n",
            "/content/drive/MyDrive/data/leftImg8bit/train/zurich/zurich_000019_000019_leftImg8bit.png\n",
            "/content/drive/MyDrive/data/leftImg8bit/train/zurich/zurich_000037_000019_leftImg8bit.png\n"
          ]
        }
      ]
    },
    {
      "cell_type": "markdown",
      "id": "cf9039ef",
      "metadata": {
        "id": "cf9039ef"
      },
      "source": [
        "### Dèfinir différente paramètres"
      ]
    },
    {
      "cell_type": "code",
      "execution_count": 13,
      "id": "c73439e3",
      "metadata": {
        "gather": {
          "logged": 1646094937103
        },
        "id": "c73439e3"
      },
      "outputs": [],
      "source": [
        "img_size = (128 , 128)\n",
        "num_classes = 8\n",
        "batch_size = 2975\n",
        "imgaug_multiplier = 2\n",
        "epochs = 10\n",
        "patience = 5\n",
        "AUTO = tf.data.AUTOTUNE"
      ]
    },
    {
      "cell_type": "markdown",
      "id": "debcf0fc",
      "metadata": {
        "id": "debcf0fc"
      },
      "source": [
        "### Dèfinir les fonctions me permettant de passer de 32 sous catégories à seulement 8 catégories"
      ]
    },
    {
      "cell_type": "code",
      "execution_count": 14,
      "id": "d7dd7ca7",
      "metadata": {
        "gather": {
          "logged": 1646094937254
        },
        "id": "d7dd7ca7"
      },
      "outputs": [],
      "source": [
        "categories = {\n",
        "    'void': [0, 1, 2, 3, 4, 5, 6],\n",
        "    'flat': [7, 8, 9, 10],\n",
        "    'construction': [11, 12, 13, 14, 15, 16],\n",
        "    'object': [17, 18, 19, 20],\n",
        "    'nature': [21, 22],\n",
        "    'sky': [23],\n",
        "    'human': [24, 25],\n",
        "    'vehicle': [26, 27, 28, 29, 30, 31, 32, 33, -1]\n",
        "}\n",
        "\n",
        "def preprocessImg(img):\n",
        "    categories = {elem: i for i, cat in enumerate(categories) for elem in cat}\n",
        "    return np.vectorize(lambda x: categories.get(x, -1))(img)"
      ]
    },
    {
      "cell_type": "markdown",
      "id": "2cacf3d8",
      "metadata": {
        "id": "2cacf3d8"
      },
      "source": [
        "### Dèfinir la fonction me permettant l'augmentation du nombre d'images"
      ]
    },
    {
      "cell_type": "code",
      "execution_count": 15,
      "id": "1dfecd6a",
      "metadata": {
        "gather": {
          "logged": 1646094937402
        },
        "id": "1dfecd6a"
      },
      "outputs": [],
      "source": [
        "def generateRandomParams(seed):\n",
        "    np.random.seed(seed)\n",
        "    angle = np.random.randint(26)\n",
        "    np.random.seed(seed*2)\n",
        "    positive = np.random.randint(2)\n",
        "    sigma = np.random.uniform(0, 1)\n",
        "    \n",
        "    if positive == 0:\n",
        "        angle = angle * -1\n",
        "        \n",
        "    crop = np.random.randint(3)\n",
        "    crop = crop / 10\n",
        "    \n",
        "    #print(angle, crop)\n",
        "        \n",
        "    return angle, crop, sigma"
      ]
    },
    {
      "cell_type": "markdown",
      "id": "abdb7cb3",
      "metadata": {
        "id": "abdb7cb3"
      },
      "source": [
        "### Réaliser le gènèrateur de données"
      ]
    },
    {
      "cell_type": "code",
      "execution_count": 16,
      "id": "657bfc46",
      "metadata": {
        "gather": {
          "logged": 1646094937547
        },
        "id": "657bfc46"
      },
      "outputs": [],
      "source": [
        "class Image(Sequence):\n",
        "    \"\"\"Helper to iterate over the data (as Numpy arrays).\"\"\"\n",
        "\n",
        "    def __init__(self, batch_size, img_size, input_img_paths, target_img_paths):\n",
        "        self.batch_size = batch_size\n",
        "        self.img_size = img_size\n",
        "        self.input_img_paths = input_img_paths\n",
        "        self.target_img_paths = target_img_paths\n",
        "\n",
        "    def __len__(self):\n",
        "        return len(self.target_img_paths) // self.batch_size\n",
        "\n",
        "    def __getitem__(self, idx):\n",
        "        \"\"\"Returns tuple (input, target) correspond to batch #idx.\"\"\"\n",
        "        i = idx * self.batch_size\n",
        "        batch_input_img_paths = self.input_img_paths[i : i + self.batch_size]\n",
        "        batch_target_img_paths = self.target_img_paths[i : i + self.batch_size]\n",
        "        \n",
        "        x = np.zeros((self.batch_size * imgaug_multiplier,) + self.img_size + (3,), dtype=\"uint8\")        \n",
        "        for j, path in enumerate(batch_input_img_paths):\n",
        "            img = image.load_img(path, target_size=self.img_size)\n",
        "            x[j] = img\n",
        "        y = np.zeros((self.batch_size * imgaug_multiplier,) + self.img_size+ (1,), dtype=\"uint8\")\n",
        "\n",
        "        for j, path in enumerate(batch_target_img_paths):\n",
        "            _img = image.load_img(path, target_size=self.img_size, color_mode=\"grayscale\")\n",
        "            y[j] = preprocessImg(_img)\n",
        "            \n",
        "            # Image AUGMENTATION         \n",
        "        for mul in range(1, imgaug_multiplier):  \n",
        "            for i in range(0, self.batch_size):\n",
        "                \n",
        "                \n",
        "                angle, crop, sigma = generateRandomParams((1 + i) * mul)\n",
        "                \n",
        "                photo_aug = iaa.Sequential([                        \n",
        "                    iaa.Affine(rotate=(angle)),\n",
        "                    iaa.Crop(percent=(crop)),\n",
        "                    iaa.GaussianBlur(sigma=(0.0, sigma))\n",
        "                ])\n",
        "                \n",
        "                label_aug = iaa.Sequential([                        \n",
        "                    iaa.Affine(rotate=(angle)),\n",
        "                    iaa.Crop(percent=(crop)),\n",
        "                ])\n",
        "                \n",
        "\n",
        "                image_aug = photo_aug(image=x[i])\n",
        "                x[batch_size * mul + i] = image_aug\n",
        "\n",
        "                image_aug = label_aug(image=y[i])\n",
        "                y[batch_size * mul + i] = image_aug # END Image AUGMENTATION  \n",
        "                \n",
        "        return x, y"
      ]
    },
    {
      "cell_type": "markdown",
      "source": [
        "https://keras.io/examples/vision/oxford_pets_image_segmentation/"
      ],
      "metadata": {
        "id": "T_AhgB2e8-i-"
      },
      "id": "T_AhgB2e8-i-"
    },
    {
      "cell_type": "markdown",
      "id": "c1cc2058",
      "metadata": {
        "id": "c1cc2058"
      },
      "source": [
        "### Gènérer les images"
      ]
    },
    {
      "cell_type": "code",
      "execution_count": 17,
      "id": "ec903b04",
      "metadata": {
        "gather": {
          "logged": 1646094937728
        },
        "id": "ec903b04",
        "colab": {
          "base_uri": "https://localhost:8080/",
          "height": 200
        },
        "outputId": "2487b4cb-7e13-4f31-a057-886a0e9434d8"
      },
      "outputs": [
        {
          "output_type": "error",
          "ename": "NameError",
          "evalue": "ignored",
          "traceback": [
            "\u001b[0;31m---------------------------------------------------------------------------\u001b[0m",
            "\u001b[0;31mNameError\u001b[0m                                 Traceback (most recent call last)",
            "\u001b[0;32m<ipython-input-17-4249d86ff167>\u001b[0m in \u001b[0;36m<module>\u001b[0;34m\u001b[0m\n\u001b[1;32m      1\u001b[0m train_seq = Image(\n\u001b[0;32m----> 2\u001b[0;31m     \u001b[0mbatch_size\u001b[0m\u001b[0;34m,\u001b[0m \u001b[0mimg_size\u001b[0m\u001b[0;34m,\u001b[0m \u001b[0mtrain_img_paths\u001b[0m\u001b[0;34m,\u001b[0m \u001b[0mtrain_ann_paths\u001b[0m\u001b[0;34m\u001b[0m\u001b[0;34m\u001b[0m\u001b[0m\n\u001b[0m\u001b[1;32m      3\u001b[0m )\n",
            "\u001b[0;31mNameError\u001b[0m: name 'train_img_paths' is not defined"
          ]
        }
      ],
      "source": [
        "train_seq = Image(\n",
        "    batch_size, img_size, train_img_paths, train_ann_paths\n",
        ")"
      ]
    },
    {
      "cell_type": "markdown",
      "id": "924e455e",
      "metadata": {
        "id": "924e455e"
      },
      "source": [
        "### Vérifier la correspondance des images avec leurs masques respectifs"
      ]
    },
    {
      "cell_type": "code",
      "execution_count": null,
      "id": "1e984730",
      "metadata": {
        "gather": {
          "logged": 1646096476114
        },
        "id": "1e984730"
      },
      "outputs": [],
      "source": [
        "assert train_seq[0][0].shape == (batch_size * imgaug_multiplier, *img_size, 3)\n",
        "assert train_seq[0][1].shape == (batch_size * imgaug_multiplier, *img_size,1)"
      ]
    },
    {
      "cell_type": "markdown",
      "id": "9044db54",
      "metadata": {
        "id": "9044db54"
      },
      "source": [
        "### Extraire les variables images et masques puis vérifier la forme"
      ]
    },
    {
      "cell_type": "code",
      "execution_count": null,
      "id": "2cb0eda6",
      "metadata": {
        "gather": {
          "logged": 1646097308310
        },
        "id": "2cb0eda6"
      },
      "outputs": [],
      "source": [
        "for x, y in train_seq:\n",
        "    break\n",
        "x.shape, y.shape"
      ]
    },
    {
      "cell_type": "markdown",
      "id": "93d220c5",
      "metadata": {
        "id": "93d220c5"
      },
      "source": [
        "### Contrôler le nombre maximal de pixel contenue dans la variable image"
      ]
    },
    {
      "cell_type": "code",
      "execution_count": null,
      "id": "d12f47f7",
      "metadata": {
        "gather": {
          "logged": 1646097308456
        },
        "id": "d12f47f7"
      },
      "outputs": [],
      "source": [
        "print(\"Valeurs max pixels image: \", x.max())"
      ]
    },
    {
      "cell_type": "markdown",
      "id": "0d054584",
      "metadata": {
        "id": "0d054584"
      },
      "source": [
        "### Contrôler le nombre de catègories prèsents dans la variable masque"
      ]
    },
    {
      "cell_type": "code",
      "execution_count": null,
      "id": "73d01dd6",
      "metadata": {
        "gather": {
          "logged": 1646097309983
        },
        "id": "73d01dd6"
      },
      "outputs": [],
      "source": [
        "print(\"Valeurs pixels mask: \", np.unique(y))"
      ]
    },
    {
      "cell_type": "markdown",
      "id": "1dacdefe",
      "metadata": {
        "id": "1dacdefe"
      },
      "source": [
        "### Normaliser les images"
      ]
    },
    {
      "cell_type": "code",
      "execution_count": null,
      "id": "600ac311",
      "metadata": {
        "gather": {
          "logged": 1646097311364
        },
        "id": "600ac311"
      },
      "outputs": [],
      "source": [
        "image_dataset = x/255.  "
      ]
    },
    {
      "cell_type": "markdown",
      "id": "65767282",
      "metadata": {
        "id": "65767282"
      },
      "source": [
        "### Fractionner mes images et mes masques en jeu d'entrainement et de test"
      ]
    },
    {
      "cell_type": "code",
      "execution_count": null,
      "id": "ec0fac26",
      "metadata": {
        "gather": {
          "logged": 1646097312353
        },
        "id": "ec0fac26"
      },
      "outputs": [],
      "source": [
        "X_train, X_test, y_train, y_test = train_test_split(image_dataset, y, test_size = 0.2, random_state = 42)"
      ]
    },
    {
      "cell_type": "markdown",
      "id": "768fd6f3",
      "metadata": {
        "id": "768fd6f3"
      },
      "source": [
        "### Etablir les 8 canaux de sortie avec conversion catègoriel de notre y_train et y_test(afin d'obtenir le bon format d'entrèe)"
      ]
    },
    {
      "cell_type": "code",
      "execution_count": null,
      "id": "e653c3e8",
      "metadata": {
        "gather": {
          "logged": 1646097314338
        },
        "id": "e653c3e8"
      },
      "outputs": [],
      "source": [
        "train_masks_cat = to_categorical(y_train, num_classes=num_classes)\n",
        "y_train_cat = train_masks_cat.reshape((y_train.shape[0], y_train.shape[1], y_train.shape[2], num_classes))\n",
        "\n",
        "test_masks_cat = to_categorical(y_test, num_classes=num_classes)\n",
        "y_test_cat = test_masks_cat.reshape((y_test.shape[0], y_test.shape[1], y_test.shape[2], num_classes))\n",
        "\n",
        "print(\"Format entrée label entrainement:\",y_train_cat.shape)\n",
        "print(\"Format entrée label test:\",y_test_cat.shape)"
      ]
    },
    {
      "cell_type": "markdown",
      "id": "362aebe8",
      "metadata": {
        "id": "362aebe8"
      },
      "source": [
        "### Construire Unet en divisant l’encodeur et le décodeur en blocs\n",
        "https://github.com/nikhilroxtomar/Unet-for-Person-Segmentation/\n"
      ]
    },
    {
      "cell_type": "code",
      "execution_count": null,
      "id": "f5e7b948",
      "metadata": {
        "gather": {
          "logged": 1646097314475
        },
        "id": "f5e7b948"
      },
      "outputs": [],
      "source": [
        "def conv_block(input, num_filters):\n",
        "    x = Conv2D(num_filters, 3, padding=\"same\")(input)\n",
        "    x = BatchNormalization()(x)   #Not in the original network. \n",
        "    x = Activation(\"relu\")(x)\n",
        "\n",
        "    x = Conv2D(num_filters, 3, padding=\"same\")(x)\n",
        "    x = BatchNormalization()(x)  #Not in the original network\n",
        "    x = Activation(\"relu\")(x)\n",
        "\n",
        "    return x"
      ]
    },
    {
      "cell_type": "markdown",
      "id": "176506f2",
      "metadata": {
        "id": "176506f2"
      },
      "source": [
        "### Bloc encodeur: conv_block suivi de maxpooling"
      ]
    },
    {
      "cell_type": "code",
      "execution_count": null,
      "id": "89c9c826",
      "metadata": {
        "gather": {
          "logged": 1646097314760
        },
        "id": "89c9c826"
      },
      "outputs": [],
      "source": [
        "def encoder_block(input, num_filters):\n",
        "    x = conv_block(input, num_filters)\n",
        "    p = MaxPool2D((2, 2))(x)\n",
        "    return x, p "
      ]
    },
    {
      "cell_type": "markdown",
      "id": "a613c700",
      "metadata": {
        "id": "a613c700"
      },
      "source": [
        "### Bloc décodeur (Les fonctions de saut obtiennent l’entrée de l’encodeur pour la concaténation)"
      ]
    },
    {
      "cell_type": "code",
      "execution_count": null,
      "id": "ab98a82b",
      "metadata": {
        "gather": {
          "logged": 1646097315002
        },
        "id": "ab98a82b"
      },
      "outputs": [],
      "source": [
        "def decoder_block(input, skip_features, num_filters):\n",
        "    x = Conv2DTranspose(num_filters, (2, 2), strides=2, padding=\"same\")(input)\n",
        "    x = Concatenate()([x, skip_features])\n",
        "    x = conv_block(x, num_filters)\n",
        "    return x"
      ]
    },
    {
      "cell_type": "markdown",
      "id": "ebd6b97c",
      "metadata": {
        "id": "ebd6b97c"
      },
      "source": [
        "### Construire Unet en utilisant les blocs"
      ]
    },
    {
      "cell_type": "code",
      "execution_count": null,
      "id": "f64fa75d",
      "metadata": {
        "gather": {
          "logged": 1646097315177
        },
        "id": "f64fa75d"
      },
      "outputs": [],
      "source": [
        "def build_unet(input_shape, n_classes):\n",
        "    inputs = Input(input_shape)\n",
        "\n",
        "    s1, p1 = encoder_block(inputs, 64)\n",
        "    s2, p2 = encoder_block(p1, 128)\n",
        "    s3, p3 = encoder_block(p2, 256)\n",
        "    s4, p4 = encoder_block(p3, 512)\n",
        "\n",
        "    b1 = conv_block(p4, 1024) #Bridge\n",
        "\n",
        "    d1 = decoder_block(b1, s4, 512)\n",
        "    d2 = decoder_block(d1, s3, 256)\n",
        "    d3 = decoder_block(d2, s2, 128)\n",
        "    d4 = decoder_block(d3, s1, 64)\n",
        "\n",
        "    if n_classes == 1: \n",
        "        activation = 'sigmoid'\n",
        "    else:\n",
        "        activation = 'softmax'\n",
        "\n",
        "    outputs = Conv2D(n_classes, 1, padding=\"same\", activation=activation)(d4)  #Change the activation based on n_classes\n",
        "    print(activation)\n",
        "\n",
        "    model = Model(inputs, outputs, name=\"U-Net\")\n",
        "    return model"
      ]
    },
    {
      "cell_type": "markdown",
      "id": "0a755b45",
      "metadata": {
        "id": "0a755b45"
      },
      "source": [
        "### Dèfinir la variable d'entrèe input_shape de mon modèle "
      ]
    },
    {
      "cell_type": "code",
      "execution_count": null,
      "id": "f3825d32",
      "metadata": {
        "gather": {
          "logged": 1646097315321
        },
        "id": "f3825d32"
      },
      "outputs": [],
      "source": [
        "IMG_HEIGHT = X_train.shape[1]\n",
        "IMG_WIDTH  = X_train.shape[2]\n",
        "IMG_CHANNELS = X_train.shape[3]\n",
        "input_shape = (IMG_HEIGHT, IMG_WIDTH, IMG_CHANNELS)"
      ]
    },
    {
      "cell_type": "markdown",
      "id": "539586ac",
      "metadata": {
        "id": "539586ac"
      },
      "source": [
        "### Construire mon modèle"
      ]
    },
    {
      "cell_type": "code",
      "execution_count": null,
      "id": "2f549d2a",
      "metadata": {
        "gather": {
          "logged": 1646097369006
        },
        "id": "2f549d2a"
      },
      "outputs": [],
      "source": [
        "model = build_unet(input_shape, n_classes=8)\n",
        "model.compile(optimizer='adam', loss='categorical_crossentropy', metrics=['accuracy'])\n",
        "model.summary()"
      ]
    },
    {
      "cell_type": "markdown",
      "id": "279bf7df",
      "metadata": {
        "id": "279bf7df"
      },
      "source": [
        "### Entaîner mon modèle"
      ]
    },
    {
      "cell_type": "code",
      "execution_count": null,
      "id": "054c5ac9",
      "metadata": {
        "gather": {
          "logged": 1646106582377
        },
        "id": "054c5ac9"
      },
      "outputs": [],
      "source": [
        "history = model.fit(X_train, y_train_cat, \n",
        "                    batch_size = 16, \n",
        "                    verbose=1, \n",
        "                    epochs=60, \n",
        "                    validation_data=(X_test, y_test_cat), \n",
        "                    shuffle=False)"
      ]
    },
    {
      "cell_type": "markdown",
      "id": "618c501a",
      "metadata": {
        "id": "618c501a"
      },
      "source": [
        "### Enregistrer le modèle pour une utilisation ultérieure"
      ]
    },
    {
      "cell_type": "code",
      "execution_count": null,
      "id": "1d1342da",
      "metadata": {
        "gather": {
          "logged": 1646106585478
        },
        "id": "1d1342da"
      },
      "outputs": [],
      "source": [
        "model.save('model_avance.h5')"
      ]
    },
    {
      "cell_type": "markdown",
      "id": "020a76bf",
      "metadata": {
        "id": "020a76bf"
      },
      "source": [
        "### Tracer la précision et la perte de formation et de validation à chaque époque"
      ]
    },
    {
      "cell_type": "code",
      "execution_count": null,
      "id": "baccfd26",
      "metadata": {
        "gather": {
          "logged": 1646106586918
        },
        "id": "baccfd26"
      },
      "outputs": [],
      "source": [
        "loss = history.history['loss']\n",
        "val_loss = history.history['val_loss']\n",
        "epochs = range(1, len(loss) + 1)\n",
        "plt.plot(epochs, loss, 'y', label='Perte de formation')\n",
        "plt.plot(epochs, val_loss, 'r', label='Perte de validation')\n",
        "plt.title('Perte de formation et de validation')\n",
        "plt.xlabel('Epochs')\n",
        "plt.ylabel('Loss')\n",
        "plt.legend()\n",
        "plt.show()\n",
        "\n",
        "acc = history.history['accuracy']\n",
        "val_acc = history.history['val_accuracy']\n",
        "\n",
        "plt.plot(epochs, acc, 'y', label='Précision formation')\n",
        "plt.plot(epochs, val_acc, 'r', label='Précision validation')\n",
        "plt.title('Précision formation et validation')\n",
        "plt.xlabel('Epochs')\n",
        "plt.ylabel('Accuracy')\n",
        "plt.legend()\n",
        "plt.show()"
      ]
    },
    {
      "cell_type": "markdown",
      "id": "cf924067",
      "metadata": {
        "id": "cf924067"
      },
      "source": [
        "### Charger le modèle précédemment enregistré"
      ]
    },
    {
      "cell_type": "code",
      "execution_count": null,
      "id": "9683ace4",
      "metadata": {
        "gather": {
          "logged": 1646106591410
        },
        "id": "9683ace4"
      },
      "outputs": [],
      "source": [
        "model = load_model('model_avance.h5', compile=False)"
      ]
    },
    {
      "cell_type": "markdown",
      "id": "fe7e9f4f",
      "metadata": {
        "id": "fe7e9f4f"
      },
      "source": [
        "### Prédiction sur les données test"
      ]
    },
    {
      "cell_type": "code",
      "execution_count": null,
      "id": "cff8713a",
      "metadata": {
        "gather": {
          "logged": 1646106605489
        },
        "id": "cff8713a"
      },
      "outputs": [],
      "source": [
        "y_pred=model.predict(X_test)\n",
        "y_pred.shape"
      ]
    },
    {
      "cell_type": "code",
      "execution_count": null,
      "id": "e7ff80d6",
      "metadata": {
        "gather": {
          "logged": 1646106605737
        },
        "id": "e7ff80d6"
      },
      "outputs": [],
      "source": [
        "y_pred_argmax=np.argmax(y_pred, axis=3)\n",
        "y_pred_argmax.shape"
      ]
    },
    {
      "cell_type": "markdown",
      "id": "e216d1f2",
      "metadata": {
        "id": "e216d1f2"
      },
      "source": [
        "Celà me permet d'avoir une forme pour calculer l'IOU"
      ]
    },
    {
      "cell_type": "markdown",
      "id": "8c7ea189",
      "metadata": {
        "id": "8c7ea189"
      },
      "source": [
        "### Utilisation de la fonction keras intégrée"
      ]
    },
    {
      "cell_type": "code",
      "execution_count": null,
      "id": "0df9e1f8",
      "metadata": {
        "gather": {
          "logged": 1646106606116
        },
        "id": "0df9e1f8"
      },
      "outputs": [],
      "source": [
        "n_classes = 8\n",
        "IOU_keras = MeanIoU(num_classes=n_classes)  \n",
        "IOU_keras.update_state(y_test[:,:,:,0], y_pred_argmax)\n",
        "print(\"Moyenne IoU =\", IOU_keras.result().numpy())"
      ]
    },
    {
      "cell_type": "markdown",
      "id": "87a20f1a",
      "metadata": {
        "id": "87a20f1a"
      },
      "source": [
        "En utilisant la mètrique de keras MeanIoU instancie la moyenne IOU puis met à jours l'état des résultats de la prédiction des masques que j'ai obtenu sur les données test en le comparant au label de l'image  "
      ]
    },
    {
      "cell_type": "markdown",
      "id": "13a9fbcd",
      "metadata": {
        "id": "13a9fbcd"
      },
      "source": [
        "### Pour calculer I0U pour chaque classe (affichage de la matrice)"
      ]
    },
    {
      "cell_type": "markdown",
      "id": "513e9576",
      "metadata": {
        "id": "513e9576"
      },
      "source": [
        "Type de matrice de confusion "
      ]
    },
    {
      "cell_type": "code",
      "execution_count": null,
      "id": "807ef607",
      "metadata": {
        "gather": {
          "logged": 1646106606274
        },
        "id": "807ef607"
      },
      "outputs": [],
      "source": [
        "values = np.array(IOU_keras.get_weights()).reshape(n_classes, n_classes)\n",
        "print(values)"
      ]
    },
    {
      "cell_type": "code",
      "execution_count": null,
      "id": "25f0b0ad",
      "metadata": {
        "gather": {
          "logged": 1646106606432
        },
        "id": "25f0b0ad"
      },
      "outputs": [],
      "source": [
        "class1_IoU = values[0,0]/(values[0,0] + values[0,1] + values[0,2] + values[0,3] + values[0,4] + values[0,5] \n",
        "                          + values[0,6] + values[0,7] + values[1,0]+ values[2,0]+ values[3,0]+ values[4,0] \n",
        "                          + values[5,0] + values[6,0] + values[7,0])\n",
        "\n",
        "class2_IoU = values[1,1]/(values[1,1] + values[1,0] + values[1,2] + values[1,3] + values[1,4] + values[1,5] \n",
        "                          + values[1,6] + values[1,7] + values[0,1]+ values[2,1]+ values[3,1]+ values[4,1] \n",
        "                          + values[5,1] + values[6,1] + values[7,1])\n",
        "\n",
        "class3_IoU = values[2,2]/(values[2,2] + values[2,0] + values[2,1] + values[2,3] + values[2,4] + values[2,5] \n",
        "                          + values[2,6] + values[2,7] + values[0,2]+ values[1,2]+ values[3,2]+ values[4,2] \n",
        "                          + values[5,2] + values[6,2] + values[7,2])\n",
        "\n",
        "class4_IoU = values[3,3]/(values[3,3] + values[3,0] + values[3,1] + values[3,2] + values[3,4] + values[3,5] \n",
        "                          + values[3,6] + values[3,7] + values[0,3]+ values[1,3]+ values[2,3]+ values[4,3] \n",
        "                          + values[5,3] + values[6,3] + values[7,3])\n",
        "\n",
        "class5_IoU = values[4,4]/(values[4,4] + values[4,0] + values[4,1] + values[4,2] + values[4,3] + values[4,5] \n",
        "                          + values[4,6] + values[4,7] + values[0,4]+ values[1,4]+ values[2,4]+ values[3,4] \n",
        "                          + values[5,4] + values[6,4] + values[7,4])\n",
        "\n",
        "class6_IoU = values[5,5]/(values[5,5] + values[5,0] + values[5,1] + values[5,2] + values[5,3] + values[5,4] \n",
        "                          + values[5,6] + values[5,7] + values[0,5]+ values[1,5]+ values[2,5]+ values[3,5] \n",
        "                          + values[4,5] + values[6,5] + values[7,5])\n",
        "\n",
        "class7_IoU = values[6,6]/(values[6,6] + values[6,0] + values[6,1] + values[6,2] + values[6,3] + values[6,4] \n",
        "                          + values[6,5] + values[6,7] + values[0,6]+ values[1,6]+ values[2,6]+ values[3,6] \n",
        "                          + values[4,6] + values[5,6] + values[7,6])\n",
        "\n",
        "class8_IoU = values[7,7]/(values[7,7] + values[7,0] + values[7,1] + values[7,2] + values[7,3] + values[7,4] \n",
        "                          + values[7,5] + values[7,6] + values[0,7]+ values[1,7]+ values[2,7]+ values[3,7] \n",
        "                          + values[4,7] + values[5,7] + values[6,7])\n",
        "\n",
        "print(\"IoU pour void est: \", class1_IoU)\n",
        "print(\"IoU pour flat est: \", class2_IoU)\n",
        "print(\"IoU pour construction est: \", class3_IoU)\n",
        "print(\"IoU pour objet est: \", class4_IoU)\n",
        "print(\"IoU pour nature est: \", class5_IoU)\n",
        "print(\"IoU pour sky est: \", class6_IoU)\n",
        "print(\"IoU pour human est: \", class7_IoU)\n",
        "print(\"IoU pour vehicle est: \", class8_IoU)"
      ]
    },
    {
      "cell_type": "markdown",
      "id": "79d596e2",
      "metadata": {
        "id": "79d596e2"
      },
      "source": [
        "### Prédire sur une image"
      ]
    },
    {
      "cell_type": "code",
      "execution_count": null,
      "id": "8ae1f334",
      "metadata": {
        "gather": {
          "logged": 1646106608841
        },
        "id": "8ae1f334"
      },
      "outputs": [],
      "source": [
        "img = load_img('jk/P8_Cityscapes_leftImg8bit_trainvaltest/leftImg8bit/test/berlin/berlin_000000_000019_leftImg8bit.png', target_size=(128, 128)) \n",
        "x = image.img_to_array(img)\n",
        "x = np.expand_dims(x, axis=0)\n",
        "x = preprocess_input(x)\n",
        "x= x/255.\n",
        "prediction = model.predict(x)\n",
        "predicted_img=np.argmax(prediction, axis=3)[0,:,:]\n",
        "\n",
        "plt.figure(figsize=(12, 8))\n",
        "plt.subplot(231)\n",
        "plt.title('Image')\n",
        "plt.imshow(img)\n",
        "\n",
        "plt.subplot(232)\n",
        "plt.title('Prediction mask')\n",
        "plt.imshow(predicted_img, cmap='jet')\n",
        "plt.show()"
      ]
    }
  ],
  "metadata": {
    "kernel_info": {
      "name": "python3"
    },
    "kernelspec": {
      "display_name": "Python 3 (ipykernel)",
      "language": "python",
      "name": "python3"
    },
    "language_info": {
      "codemirror_mode": {
        "name": "ipython",
        "version": 3
      },
      "file_extension": ".py",
      "mimetype": "text/x-python",
      "name": "python",
      "nbconvert_exporter": "python",
      "pygments_lexer": "ipython3",
      "version": "3.9.7"
    },
    "microsoft": {
      "host": {
        "AzureML": {
          "notebookHasBeenCompleted": true
        }
      }
    },
    "nteract": {
      "version": "nteract-front-end@1.0.0"
    },
    "colab": {
      "provenance": [],
      "include_colab_link": true
    }
  },
  "nbformat": 4,
  "nbformat_minor": 5
}